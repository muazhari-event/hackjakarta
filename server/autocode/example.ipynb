{
 "cells": [
  {
   "cell_type": "code",
   "id": "initial_id",
   "metadata": {
    "collapsed": true,
    "ExecuteTime": {
     "end_time": "2024-07-28T01:10:37.416206Z",
     "start_time": "2024-07-28T01:10:31.075097Z"
    }
   },
   "source": [
    "\n",
    "import nest_asyncio\n",
    "\n",
    "import autocode\n",
    "\n",
    "nest_asyncio.apply()\n",
    "\n"
   ],
   "outputs": [],
   "execution_count": 1
  },
  {
   "metadata": {
    "ExecuteTime": {
     "end_time": "2024-07-28T01:10:44.049462Z",
     "start_time": "2024-07-28T01:10:37.434684Z"
    }
   },
   "cell_type": "code",
   "source": [
    "optimization = autocode.Optimization(\n",
    "    num_cpus=4,\n",
    "    server_host=\"0.0.0.0\",\n",
    "    server_port=10000,\n",
    "    dashboard_port=10001,\n",
    ")"
   ],
   "id": "fe6274905d54ad44",
   "outputs": [
    {
     "name": "stderr",
     "output_type": "stream",
     "text": [
      "2024-07-28 08:10:41,618\tINFO worker.py:1781 -- Started a local Ray instance.\n"
     ]
    },
    {
     "name": "stdout",
     "output_type": "stream",
     "text": [
      "Available resources:  {'CPU': 4.0, 'node:__internal_head__': 1.0, 'object_store_memory': 3427118284.0, 'node:172.25.161.215': 1.0, 'memory': 6854236571.0}\n",
      "Server is healthy.\n"
     ]
    }
   ],
   "execution_count": 2
  },
  {
   "metadata": {
    "ExecuteTime": {
     "end_time": "2024-07-28T01:10:44.111107Z",
     "start_time": "2024-07-28T01:10:44.052949Z"
    }
   },
   "cell_type": "code",
   "source": "optimization.reset()",
   "id": "303433e5ea06bdd4",
   "outputs": [],
   "execution_count": 3
  },
  {
   "metadata": {
    "ExecuteTime": {
     "end_time": "2024-07-28T01:10:44.123371Z",
     "start_time": "2024-07-28T01:10:44.114100Z"
    }
   },
   "cell_type": "code",
   "source": [
    "from autocode import OptimizationObjective\n",
    "from typing import Dict, Any, List\n",
    "from autocode import OptimizationEvaluateRunResponse\n",
    "objectives: List[OptimizationObjective] = [\n",
    "    OptimizationObjective(\n",
    "        type=\"minimize\",\n",
    "    ),\n",
    "    OptimizationObjective(\n",
    "        type=\"maximize\",\n",
    "    ),\n",
    "    OptimizationObjective(\n",
    "        type=\"maximize\",\n",
    "    ),\n",
    "    OptimizationObjective(\n",
    "        type=\"minimize\",\n",
    "    ),\n",
    "    OptimizationObjective(\n",
    "        type=\"maximize\",\n",
    "    ),\n",
    "    OptimizationObjective(\n",
    "        type=\"minimize\",\n",
    "    ),\n",
    "    OptimizationObjective(\n",
    "        type=\"maximize\",\n",
    "    ),\n",
    "]\n",
    "\n",
    "\n",
    "def evaluator(input: List[OptimizationEvaluateRunResponse]) -> Dict[str, Any]:\n",
    "    output: Dict[str, Any] = {\n",
    "        \"F\": input[0].objectives,\n",
    "    }\n",
    "\n",
    "    return output\n"
   ],
   "id": "5daf173cc5c82482",
   "outputs": [],
   "execution_count": 4
  },
  {
   "metadata": {
    "ExecuteTime": {
     "end_time": "2024-07-28T01:17:23.427275Z",
     "start_time": "2024-07-28T01:11:44.441044Z"
    }
   },
   "cell_type": "code",
   "source": [
    "result = optimization.run(\n",
    "    objectives=objectives,\n",
    "    num_inequality_constraints=0,\n",
    "    num_equality_constraints=0,\n",
    "    evaluator=evaluator\n",
    ")"
   ],
   "id": "38bf58746d0b5933",
   "outputs": [
    {
     "name": "stdout",
     "output_type": "stream",
     "text": [
      "=================================================\n",
      "n_gen  |  n_eval  |     f_avg     |     f_min    \n",
      "=================================================\n",
      "     1 |       50 |  6.657800E+02 |  3.830000E+02\n",
      "     2 |      100 |  5.765800E+02 |  3.830000E+02\n",
      "     3 |      150 |  5.460600E+02 |  3.830000E+02\n",
      "     4 |      200 |  5.431600E+02 |  3.830000E+02\n",
      "     5 |      250 |  5.225800E+02 |  3.830000E+02\n",
      "     6 |      300 |  5.209800E+02 |  3.830000E+02\n",
      "     7 |      350 |  5.145800E+02 |  3.830000E+02\n",
      "     8 |      400 |  5.098000E+02 |  3.830000E+02\n",
      "     9 |      450 |  5.063000E+02 |  3.830000E+02\n",
      "    10 |      500 |  5.038200E+02 |  3.830000E+02\n",
      "    11 |      550 |  5.019800E+02 |  3.830000E+02\n",
      "    12 |      600 |  4.955000E+02 |  3.830000E+02\n",
      "    13 |      650 |  4.935600E+02 |  3.830000E+02\n",
      "    14 |      700 |  4.920000E+02 |  3.830000E+02\n",
      "    15 |      750 |  4.888400E+02 |  3.830000E+02\n",
      "    16 |      800 |  4.888400E+02 |  3.830000E+02\n",
      "    17 |      850 |  4.885000E+02 |  3.830000E+02\n",
      "    18 |      900 |  4.868600E+02 |  3.830000E+02\n",
      "    19 |      950 |  4.868600E+02 |  3.830000E+02\n",
      "    20 |     1000 |  4.864200E+02 |  3.830000E+02\n",
      "    21 |     1050 |  4.860400E+02 |  3.830000E+02\n",
      "    22 |     1100 |  4.860400E+02 |  3.830000E+02\n",
      "    23 |     1150 |  4.856200E+02 |  3.830000E+02\n",
      "    24 |     1200 |  4.852200E+02 |  3.830000E+02\n",
      "    25 |     1250 |  4.845200E+02 |  3.830000E+02\n",
      "    26 |     1300 |  4.760800E+02 |  2.780000E+02\n",
      "    27 |     1350 |  4.726800E+02 |  2.780000E+02\n",
      "    28 |     1400 |  4.651800E+02 |  2.780000E+02\n",
      "    29 |     1450 |  4.580800E+02 |  2.780000E+02\n",
      "    30 |     1500 |  4.580800E+02 |  2.780000E+02\n",
      "    31 |     1550 |  4.564800E+02 |  2.780000E+02\n",
      "    32 |     1600 |  4.519000E+02 |  2.780000E+02\n",
      "    33 |     1650 |  4.517200E+02 |  2.780000E+02\n",
      "    34 |     1700 |  4.516800E+02 |  2.780000E+02\n",
      "    35 |     1750 |  4.516800E+02 |  2.780000E+02\n",
      "    36 |     1800 |  4.516800E+02 |  2.780000E+02\n",
      "    37 |     1850 |  4.507000E+02 |  2.780000E+02\n",
      "    38 |     1900 |  4.498800E+02 |  2.780000E+02\n",
      "    39 |     1950 |  4.498800E+02 |  2.780000E+02\n",
      "    40 |     2000 |  4.498800E+02 |  2.780000E+02\n",
      "    41 |     2050 |  4.498400E+02 |  2.780000E+02\n",
      "    42 |     2100 |  4.505200E+02 |  2.780000E+02\n",
      "    43 |     2150 |  4.504200E+02 |  2.780000E+02\n",
      "    44 |     2200 |  4.474200E+02 |  2.780000E+02\n",
      "    45 |     2250 |  4.474200E+02 |  2.780000E+02\n",
      "    46 |     2300 |  4.474200E+02 |  2.780000E+02\n",
      "    47 |     2350 |  4.474200E+02 |  2.780000E+02\n"
     ]
    },
    {
     "ename": "KeyboardInterrupt",
     "evalue": "",
     "output_type": "error",
     "traceback": [
      "\u001B[0;31m---------------------------------------------------------------------------\u001B[0m",
      "\u001B[0;31mKeyboardInterrupt\u001B[0m                         Traceback (most recent call last)",
      "Cell \u001B[0;32mIn[5], line 1\u001B[0m\n\u001B[0;32m----> 1\u001B[0m result \u001B[38;5;241m=\u001B[39m \u001B[43moptimization\u001B[49m\u001B[38;5;241;43m.\u001B[39;49m\u001B[43mrun\u001B[49m\u001B[43m(\u001B[49m\n\u001B[1;32m      2\u001B[0m \u001B[43m    \u001B[49m\u001B[43mobjectives\u001B[49m\u001B[38;5;241;43m=\u001B[39;49m\u001B[43mobjectives\u001B[49m\u001B[43m,\u001B[49m\n\u001B[1;32m      3\u001B[0m \u001B[43m    \u001B[49m\u001B[43mnum_inequality_constraints\u001B[49m\u001B[38;5;241;43m=\u001B[39;49m\u001B[38;5;241;43m0\u001B[39;49m\u001B[43m,\u001B[49m\n\u001B[1;32m      4\u001B[0m \u001B[43m    \u001B[49m\u001B[43mnum_equality_constraints\u001B[49m\u001B[38;5;241;43m=\u001B[39;49m\u001B[38;5;241;43m0\u001B[39;49m\u001B[43m,\u001B[49m\n\u001B[1;32m      5\u001B[0m \u001B[43m    \u001B[49m\u001B[43mevaluator\u001B[49m\u001B[38;5;241;43m=\u001B[39;49m\u001B[43mevaluator\u001B[49m\n\u001B[1;32m      6\u001B[0m \u001B[43m)\u001B[49m\n",
      "File \u001B[0;32m/mnt/c/Data/Apps/hackjakarta/server/autocode/autocode/__init__.py:124\u001B[0m, in \u001B[0;36mOptimization.run\u001B[0;34m(self, objectives, num_inequality_constraints, num_equality_constraints, evaluator)\u001B[0m\n\u001B[1;32m    116\u001B[0m \u001B[38;5;28;01mdef\u001B[39;00m \u001B[38;5;21mrun\u001B[39m(\n\u001B[1;32m    117\u001B[0m         \u001B[38;5;28mself\u001B[39m,\n\u001B[1;32m    118\u001B[0m         objectives: List[OptimizationObjective],\n\u001B[0;32m   (...)\u001B[0m\n\u001B[1;32m    121\u001B[0m         evaluator: Callable[[List[OptimizationEvaluateRunResponse]], Dict[\u001B[38;5;28mstr\u001B[39m, Any]]\n\u001B[1;32m    122\u001B[0m ) \u001B[38;5;241m-\u001B[39m\u001B[38;5;241m>\u001B[39m Result:\n\u001B[1;32m    123\u001B[0m     optimization_use_case: OptimizationUseCase \u001B[38;5;241m=\u001B[39m \u001B[38;5;28mself\u001B[39m\u001B[38;5;241m.\u001B[39mapplication_container\u001B[38;5;241m.\u001B[39muse_cases\u001B[38;5;241m.\u001B[39moptimization()\n\u001B[0;32m--> 124\u001B[0m     \u001B[38;5;28;01mreturn\u001B[39;00m \u001B[43moptimization_use_case\u001B[49m\u001B[38;5;241;43m.\u001B[39;49m\u001B[43mrun\u001B[49m\u001B[43m(\u001B[49m\n\u001B[1;32m    125\u001B[0m \u001B[43m        \u001B[49m\u001B[43mobjectives\u001B[49m\u001B[38;5;241;43m=\u001B[39;49m\u001B[43mobjectives\u001B[49m\u001B[43m,\u001B[49m\n\u001B[1;32m    126\u001B[0m \u001B[43m        \u001B[49m\u001B[43mnum_inequality_constraints\u001B[49m\u001B[38;5;241;43m=\u001B[39;49m\u001B[43mnum_inequality_constraints\u001B[49m\u001B[43m,\u001B[49m\n\u001B[1;32m    127\u001B[0m \u001B[43m        \u001B[49m\u001B[43mnum_equality_constraints\u001B[49m\u001B[38;5;241;43m=\u001B[39;49m\u001B[43mnum_equality_constraints\u001B[49m\u001B[43m,\u001B[49m\n\u001B[1;32m    128\u001B[0m \u001B[43m        \u001B[49m\u001B[43mevaluator\u001B[49m\u001B[38;5;241;43m=\u001B[39;49m\u001B[43mevaluator\u001B[49m\u001B[43m,\u001B[49m\n\u001B[1;32m    129\u001B[0m \u001B[43m    \u001B[49m\u001B[43m)\u001B[49m\n",
      "File \u001B[0;32m/mnt/c/Data/Apps/hackjakarta/server/autocode/autocode/use_case.py:473\u001B[0m, in \u001B[0;36mOptimizationUseCase.run\u001B[0;34m(self, objectives, num_inequality_constraints, num_equality_constraints, evaluator)\u001B[0m\n\u001B[1;32m    470\u001B[0m session\u001B[38;5;241m.\u001B[39mcommit()\n\u001B[1;32m    471\u001B[0m session\u001B[38;5;241m.\u001B[39mclose()\n\u001B[0;32m--> 473\u001B[0m result: Result \u001B[38;5;241m=\u001B[39m \u001B[38;5;28;43mself\u001B[39;49m\u001B[38;5;241;43m.\u001B[39;49m\u001B[43mminimize\u001B[49m\u001B[43m(\u001B[49m\n\u001B[1;32m    474\u001B[0m \u001B[43m    \u001B[49m\u001B[43mobjectives\u001B[49m\u001B[38;5;241;43m=\u001B[39;49m\u001B[43mobjectives\u001B[49m\u001B[43m,\u001B[49m\n\u001B[1;32m    475\u001B[0m \u001B[43m    \u001B[49m\u001B[43mnum_inequality_constraints\u001B[49m\u001B[38;5;241;43m=\u001B[39;49m\u001B[43mnum_inequality_constraints\u001B[49m\u001B[43m,\u001B[49m\n\u001B[1;32m    476\u001B[0m \u001B[43m    \u001B[49m\u001B[43mnum_equality_constraints\u001B[49m\u001B[38;5;241;43m=\u001B[39;49m\u001B[43mnum_equality_constraints\u001B[49m\u001B[43m,\u001B[49m\n\u001B[1;32m    477\u001B[0m \u001B[43m    \u001B[49m\u001B[43mvariables\u001B[49m\u001B[38;5;241;43m=\u001B[39;49m\u001B[43mvariables\u001B[49m\u001B[43m,\u001B[49m\n\u001B[1;32m    478\u001B[0m \u001B[43m    \u001B[49m\u001B[43mevaluator\u001B[49m\u001B[38;5;241;43m=\u001B[39;49m\u001B[43mevaluator\u001B[49m\u001B[43m,\u001B[49m\n\u001B[1;32m    479\u001B[0m \u001B[43m    \u001B[49m\u001B[43mclients\u001B[49m\u001B[38;5;241;43m=\u001B[39;49m\u001B[43mclients\u001B[49m\n\u001B[1;32m    480\u001B[0m \u001B[43m\u001B[49m\u001B[43m)\u001B[49m\n\u001B[1;32m    482\u001B[0m \u001B[38;5;28;01mif\u001B[39;00m \u001B[38;5;28mtype\u001B[39m(result\u001B[38;5;241m.\u001B[39mF) \u001B[38;5;241m!=\u001B[39m np\u001B[38;5;241m.\u001B[39mndarray \u001B[38;5;129;01mor\u001B[39;00m result\u001B[38;5;241m.\u001B[39mF\u001B[38;5;241m.\u001B[39mndim \u001B[38;5;241m==\u001B[39m \u001B[38;5;241m1\u001B[39m:\n\u001B[1;32m    483\u001B[0m     result\u001B[38;5;241m.\u001B[39mF \u001B[38;5;241m=\u001B[39m np\u001B[38;5;241m.\u001B[39marray([result\u001B[38;5;241m.\u001B[39mF])\n",
      "File \u001B[0;32m/mnt/c/Data/Apps/hackjakarta/server/autocode/autocode/use_case.py:533\u001B[0m, in \u001B[0;36mOptimizationUseCase.minimize\u001B[0;34m(self, objectives, num_inequality_constraints, num_equality_constraints, variables, evaluator, clients)\u001B[0m\n\u001B[1;32m    525\u001B[0m algorithm: MixedVariableGA \u001B[38;5;241m=\u001B[39m MixedVariableGA(\n\u001B[1;32m    526\u001B[0m     survival\u001B[38;5;241m=\u001B[39mRankAndCrowding()\n\u001B[1;32m    527\u001B[0m )\n\u001B[1;32m    529\u001B[0m callback: OptimizationCallback \u001B[38;5;241m=\u001B[39m OptimizationCallback(\n\u001B[1;32m    530\u001B[0m     one_datastore\u001B[38;5;241m=\u001B[39m\u001B[38;5;28mself\u001B[39m\u001B[38;5;241m.\u001B[39mone_datastore\n\u001B[1;32m    531\u001B[0m )\n\u001B[0;32m--> 533\u001B[0m result: Result \u001B[38;5;241m=\u001B[39m \u001B[43mminimize\u001B[49m\u001B[43m(\u001B[49m\n\u001B[1;32m    534\u001B[0m \u001B[43m    \u001B[49m\u001B[43mproblem\u001B[49m\u001B[43m,\u001B[49m\n\u001B[1;32m    535\u001B[0m \u001B[43m    \u001B[49m\u001B[43malgorithm\u001B[49m\u001B[43m,\u001B[49m\n\u001B[1;32m    536\u001B[0m \u001B[43m    \u001B[49m\u001B[43mcallback\u001B[49m\u001B[38;5;241;43m=\u001B[39;49m\u001B[43mcallback\u001B[49m\u001B[43m,\u001B[49m\n\u001B[1;32m    537\u001B[0m \u001B[43m    \u001B[49m\u001B[43mseed\u001B[49m\u001B[38;5;241;43m=\u001B[39;49m\u001B[38;5;241;43m1\u001B[39;49m\u001B[43m,\u001B[49m\n\u001B[1;32m    538\u001B[0m \u001B[43m    \u001B[49m\u001B[43mverbose\u001B[49m\u001B[38;5;241;43m=\u001B[39;49m\u001B[38;5;28;43;01mTrue\u001B[39;49;00m\n\u001B[1;32m    539\u001B[0m \u001B[43m\u001B[49m\u001B[43m)\u001B[49m\n\u001B[1;32m    541\u001B[0m \u001B[38;5;28;01mreturn\u001B[39;00m result\n",
      "File \u001B[0;32m~/miniconda3/envs/hackjakarta/lib/python3.10/site-packages/pymoo/optimize.py:67\u001B[0m, in \u001B[0;36mminimize\u001B[0;34m(problem, algorithm, termination, copy_algorithm, copy_termination, **kwargs)\u001B[0m\n\u001B[1;32m     64\u001B[0m     algorithm\u001B[38;5;241m.\u001B[39msetup(problem, \u001B[38;5;241m*\u001B[39m\u001B[38;5;241m*\u001B[39mkwargs)\n\u001B[1;32m     66\u001B[0m \u001B[38;5;66;03m# actually execute the algorithm\u001B[39;00m\n\u001B[0;32m---> 67\u001B[0m res \u001B[38;5;241m=\u001B[39m \u001B[43malgorithm\u001B[49m\u001B[38;5;241;43m.\u001B[39;49m\u001B[43mrun\u001B[49m\u001B[43m(\u001B[49m\u001B[43m)\u001B[49m\n\u001B[1;32m     69\u001B[0m \u001B[38;5;66;03m# store the deep copied algorithm in the result object\u001B[39;00m\n\u001B[1;32m     70\u001B[0m res\u001B[38;5;241m.\u001B[39malgorithm \u001B[38;5;241m=\u001B[39m algorithm\n",
      "File \u001B[0;32m~/miniconda3/envs/hackjakarta/lib/python3.10/site-packages/pymoo/core/algorithm.py:138\u001B[0m, in \u001B[0;36mAlgorithm.run\u001B[0;34m(self)\u001B[0m\n\u001B[1;32m    136\u001B[0m \u001B[38;5;28;01mdef\u001B[39;00m \u001B[38;5;21mrun\u001B[39m(\u001B[38;5;28mself\u001B[39m):\n\u001B[1;32m    137\u001B[0m     \u001B[38;5;28;01mwhile\u001B[39;00m \u001B[38;5;28mself\u001B[39m\u001B[38;5;241m.\u001B[39mhas_next():\n\u001B[0;32m--> 138\u001B[0m         \u001B[38;5;28;43mself\u001B[39;49m\u001B[38;5;241;43m.\u001B[39;49m\u001B[43mnext\u001B[49m\u001B[43m(\u001B[49m\u001B[43m)\u001B[49m\n\u001B[1;32m    139\u001B[0m     \u001B[38;5;28;01mreturn\u001B[39;00m \u001B[38;5;28mself\u001B[39m\u001B[38;5;241m.\u001B[39mresult()\n",
      "File \u001B[0;32m~/miniconda3/envs/hackjakarta/lib/python3.10/site-packages/pymoo/core/algorithm.py:158\u001B[0m, in \u001B[0;36mAlgorithm.next\u001B[0;34m(self)\u001B[0m\n\u001B[1;32m    156\u001B[0m \u001B[38;5;66;03m# call the advance with them after evaluation\u001B[39;00m\n\u001B[1;32m    157\u001B[0m \u001B[38;5;28;01mif\u001B[39;00m infills \u001B[38;5;129;01mis\u001B[39;00m \u001B[38;5;129;01mnot\u001B[39;00m \u001B[38;5;28;01mNone\u001B[39;00m:\n\u001B[0;32m--> 158\u001B[0m     \u001B[38;5;28;43mself\u001B[39;49m\u001B[38;5;241;43m.\u001B[39;49m\u001B[43mevaluator\u001B[49m\u001B[38;5;241;43m.\u001B[39;49m\u001B[43meval\u001B[49m\u001B[43m(\u001B[49m\u001B[38;5;28;43mself\u001B[39;49m\u001B[38;5;241;43m.\u001B[39;49m\u001B[43mproblem\u001B[49m\u001B[43m,\u001B[49m\u001B[43m \u001B[49m\u001B[43minfills\u001B[49m\u001B[43m,\u001B[49m\u001B[43m \u001B[49m\u001B[43malgorithm\u001B[49m\u001B[38;5;241;43m=\u001B[39;49m\u001B[38;5;28;43mself\u001B[39;49m\u001B[43m)\u001B[49m\n\u001B[1;32m    159\u001B[0m     \u001B[38;5;28mself\u001B[39m\u001B[38;5;241m.\u001B[39madvance(infills\u001B[38;5;241m=\u001B[39minfills)\n\u001B[1;32m    161\u001B[0m \u001B[38;5;66;03m# if the algorithm does not follow the infill-advance scheme just call advance\u001B[39;00m\n\u001B[1;32m    162\u001B[0m \u001B[38;5;28;01melse\u001B[39;00m:\n",
      "File \u001B[0;32m~/miniconda3/envs/hackjakarta/lib/python3.10/site-packages/pymoo/core/evaluator.py:69\u001B[0m, in \u001B[0;36mEvaluator.eval\u001B[0;34m(self, problem, pop, skip_already_evaluated, evaluate_values_of, count_evals, **kwargs)\u001B[0m\n\u001B[1;32m     65\u001B[0m \u001B[38;5;66;03m# evaluate the solutions (if there are any)\u001B[39;00m\n\u001B[1;32m     66\u001B[0m \u001B[38;5;28;01mif\u001B[39;00m \u001B[38;5;28mlen\u001B[39m(I) \u001B[38;5;241m>\u001B[39m \u001B[38;5;241m0\u001B[39m:\n\u001B[1;32m     67\u001B[0m \n\u001B[1;32m     68\u001B[0m     \u001B[38;5;66;03m# do the actual evaluation - call the sub-function to set the corresponding values to the population\u001B[39;00m\n\u001B[0;32m---> 69\u001B[0m     \u001B[38;5;28;43mself\u001B[39;49m\u001B[38;5;241;43m.\u001B[39;49m\u001B[43m_eval\u001B[49m\u001B[43m(\u001B[49m\u001B[43mproblem\u001B[49m\u001B[43m,\u001B[49m\u001B[43m \u001B[49m\u001B[43mpop\u001B[49m\u001B[43m[\u001B[49m\u001B[43mI\u001B[49m\u001B[43m]\u001B[49m\u001B[43m,\u001B[49m\u001B[43m \u001B[49m\u001B[43mevaluate_values_of\u001B[49m\u001B[43m,\u001B[49m\u001B[43m \u001B[49m\u001B[38;5;241;43m*\u001B[39;49m\u001B[38;5;241;43m*\u001B[39;49m\u001B[43mkwargs\u001B[49m\u001B[43m)\u001B[49m\n\u001B[1;32m     71\u001B[0m \u001B[38;5;66;03m# update the function evaluation counter\u001B[39;00m\n\u001B[1;32m     72\u001B[0m \u001B[38;5;28;01mif\u001B[39;00m count_evals:\n",
      "File \u001B[0;32m~/miniconda3/envs/hackjakarta/lib/python3.10/site-packages/pymoo/core/evaluator.py:90\u001B[0m, in \u001B[0;36mEvaluator._eval\u001B[0;34m(self, problem, pop, evaluate_values_of, **kwargs)\u001B[0m\n\u001B[1;32m     87\u001B[0m X \u001B[38;5;241m=\u001B[39m pop\u001B[38;5;241m.\u001B[39mget(\u001B[38;5;124m\"\u001B[39m\u001B[38;5;124mX\u001B[39m\u001B[38;5;124m\"\u001B[39m)\n\u001B[1;32m     89\u001B[0m \u001B[38;5;66;03m# call the problem to evaluate the solutions\u001B[39;00m\n\u001B[0;32m---> 90\u001B[0m out \u001B[38;5;241m=\u001B[39m \u001B[43mproblem\u001B[49m\u001B[38;5;241;43m.\u001B[39;49m\u001B[43mevaluate\u001B[49m\u001B[43m(\u001B[49m\u001B[43mX\u001B[49m\u001B[43m,\u001B[49m\u001B[43m \u001B[49m\u001B[43mreturn_values_of\u001B[49m\u001B[38;5;241;43m=\u001B[39;49m\u001B[43mevaluate_values_of\u001B[49m\u001B[43m,\u001B[49m\u001B[43m \u001B[49m\u001B[43mreturn_as_dictionary\u001B[49m\u001B[38;5;241;43m=\u001B[39;49m\u001B[38;5;28;43;01mTrue\u001B[39;49;00m\u001B[43m,\u001B[49m\u001B[43m \u001B[49m\u001B[38;5;241;43m*\u001B[39;49m\u001B[38;5;241;43m*\u001B[39;49m\u001B[43mkwargs\u001B[49m\u001B[43m)\u001B[49m\n\u001B[1;32m     92\u001B[0m \u001B[38;5;66;03m# for each of the attributes set it to the problem\u001B[39;00m\n\u001B[1;32m     93\u001B[0m \u001B[38;5;28;01mfor\u001B[39;00m key, val \u001B[38;5;129;01min\u001B[39;00m out\u001B[38;5;241m.\u001B[39mitems():\n",
      "File \u001B[0;32m~/miniconda3/envs/hackjakarta/lib/python3.10/site-packages/pymoo/core/problem.py:257\u001B[0m, in \u001B[0;36mProblem.evaluate\u001B[0;34m(self, X, return_values_of, return_as_dictionary, *args, **kwargs)\u001B[0m\n\u001B[1;32m    254\u001B[0m     only_single_value \u001B[38;5;241m=\u001B[39m \u001B[38;5;129;01mnot\u001B[39;00m (\u001B[38;5;28misinstance\u001B[39m(X, \u001B[38;5;28mlist\u001B[39m) \u001B[38;5;129;01mor\u001B[39;00m \u001B[38;5;28misinstance\u001B[39m(X, np\u001B[38;5;241m.\u001B[39mndarray))\n\u001B[1;32m    256\u001B[0m \u001B[38;5;66;03m# this is where the actual evaluation takes place\u001B[39;00m\n\u001B[0;32m--> 257\u001B[0m _out \u001B[38;5;241m=\u001B[39m \u001B[38;5;28;43mself\u001B[39;49m\u001B[38;5;241;43m.\u001B[39;49m\u001B[43mdo\u001B[49m\u001B[43m(\u001B[49m\u001B[43mX\u001B[49m\u001B[43m,\u001B[49m\u001B[43m \u001B[49m\u001B[43mreturn_values_of\u001B[49m\u001B[43m,\u001B[49m\u001B[43m \u001B[49m\u001B[38;5;241;43m*\u001B[39;49m\u001B[43margs\u001B[49m\u001B[43m,\u001B[49m\u001B[43m \u001B[49m\u001B[38;5;241;43m*\u001B[39;49m\u001B[38;5;241;43m*\u001B[39;49m\u001B[43mkwargs\u001B[49m\u001B[43m)\u001B[49m\n\u001B[1;32m    259\u001B[0m out \u001B[38;5;241m=\u001B[39m {}\n\u001B[1;32m    260\u001B[0m \u001B[38;5;28;01mfor\u001B[39;00m k, v \u001B[38;5;129;01min\u001B[39;00m _out\u001B[38;5;241m.\u001B[39mitems():\n\u001B[1;32m    261\u001B[0m \n\u001B[1;32m    262\u001B[0m     \u001B[38;5;66;03m# copy it to a numpy array (it might be one of jax at this point)\u001B[39;00m\n",
      "File \u001B[0;32m~/miniconda3/envs/hackjakarta/lib/python3.10/site-packages/pymoo/core/problem.py:297\u001B[0m, in \u001B[0;36mProblem.do\u001B[0;34m(self, X, return_values_of, *args, **kwargs)\u001B[0m\n\u001B[1;32m    295\u001B[0m \u001B[38;5;66;03m# do the function evaluation\u001B[39;00m\n\u001B[1;32m    296\u001B[0m \u001B[38;5;28;01mif\u001B[39;00m \u001B[38;5;28mself\u001B[39m\u001B[38;5;241m.\u001B[39melementwise:\n\u001B[0;32m--> 297\u001B[0m     \u001B[38;5;28;43mself\u001B[39;49m\u001B[38;5;241;43m.\u001B[39;49m\u001B[43m_evaluate_elementwise\u001B[49m\u001B[43m(\u001B[49m\u001B[43mX\u001B[49m\u001B[43m,\u001B[49m\u001B[43m \u001B[49m\u001B[43mout\u001B[49m\u001B[43m,\u001B[49m\u001B[43m \u001B[49m\u001B[38;5;241;43m*\u001B[39;49m\u001B[43margs\u001B[49m\u001B[43m,\u001B[49m\u001B[43m \u001B[49m\u001B[38;5;241;43m*\u001B[39;49m\u001B[38;5;241;43m*\u001B[39;49m\u001B[43mkwargs\u001B[49m\u001B[43m)\u001B[49m\n\u001B[1;32m    298\u001B[0m \u001B[38;5;28;01melse\u001B[39;00m:\n\u001B[1;32m    299\u001B[0m     \u001B[38;5;28mself\u001B[39m\u001B[38;5;241m.\u001B[39m_evaluate_vectorized(X, out, \u001B[38;5;241m*\u001B[39margs, \u001B[38;5;241m*\u001B[39m\u001B[38;5;241m*\u001B[39mkwargs)\n",
      "File \u001B[0;32m~/miniconda3/envs/hackjakarta/lib/python3.10/site-packages/pymoo/core/problem.py:315\u001B[0m, in \u001B[0;36mProblem._evaluate_elementwise\u001B[0;34m(self, X, out, *args, **kwargs)\u001B[0m\n\u001B[1;32m    312\u001B[0m f \u001B[38;5;241m=\u001B[39m \u001B[38;5;28mself\u001B[39m\u001B[38;5;241m.\u001B[39melementwise_func(\u001B[38;5;28mself\u001B[39m, args, kwargs)\n\u001B[1;32m    314\u001B[0m \u001B[38;5;66;03m# execute the runner\u001B[39;00m\n\u001B[0;32m--> 315\u001B[0m elems \u001B[38;5;241m=\u001B[39m \u001B[38;5;28;43mself\u001B[39;49m\u001B[38;5;241;43m.\u001B[39;49m\u001B[43melementwise_runner\u001B[49m\u001B[43m(\u001B[49m\u001B[43mf\u001B[49m\u001B[43m,\u001B[49m\u001B[43m \u001B[49m\u001B[43mX\u001B[49m\u001B[43m)\u001B[49m\n\u001B[1;32m    317\u001B[0m \u001B[38;5;66;03m# for each evaluation call\u001B[39;00m\n\u001B[1;32m    318\u001B[0m \u001B[38;5;28;01mfor\u001B[39;00m elem \u001B[38;5;129;01min\u001B[39;00m elems:\n\u001B[1;32m    319\u001B[0m \n\u001B[1;32m    320\u001B[0m     \u001B[38;5;66;03m# for each key stored for this evaluation\u001B[39;00m\n",
      "File \u001B[0;32m~/miniconda3/envs/hackjakarta/lib/python3.10/site-packages/pymoo/core/problem.py:32\u001B[0m, in \u001B[0;36mLoopedElementwiseEvaluation.__call__\u001B[0;34m(self, f, X)\u001B[0m\n\u001B[1;32m     31\u001B[0m \u001B[38;5;28;01mdef\u001B[39;00m \u001B[38;5;21m__call__\u001B[39m(\u001B[38;5;28mself\u001B[39m, f, X):\n\u001B[0;32m---> 32\u001B[0m     \u001B[38;5;28;01mreturn\u001B[39;00m [f(x) \u001B[38;5;28;01mfor\u001B[39;00m x \u001B[38;5;129;01min\u001B[39;00m X]\n",
      "File \u001B[0;32m~/miniconda3/envs/hackjakarta/lib/python3.10/site-packages/pymoo/core/problem.py:32\u001B[0m, in \u001B[0;36m<listcomp>\u001B[0;34m(.0)\u001B[0m\n\u001B[1;32m     31\u001B[0m \u001B[38;5;28;01mdef\u001B[39;00m \u001B[38;5;21m__call__\u001B[39m(\u001B[38;5;28mself\u001B[39m, f, X):\n\u001B[0;32m---> 32\u001B[0m     \u001B[38;5;28;01mreturn\u001B[39;00m [\u001B[43mf\u001B[49m\u001B[43m(\u001B[49m\u001B[43mx\u001B[49m\u001B[43m)\u001B[49m \u001B[38;5;28;01mfor\u001B[39;00m x \u001B[38;5;129;01min\u001B[39;00m X]\n",
      "File \u001B[0;32m~/miniconda3/envs/hackjakarta/lib/python3.10/site-packages/pymoo/core/problem.py:25\u001B[0m, in \u001B[0;36mElementwiseEvaluationFunction.__call__\u001B[0;34m(self, x)\u001B[0m\n\u001B[1;32m     23\u001B[0m \u001B[38;5;28;01mdef\u001B[39;00m \u001B[38;5;21m__call__\u001B[39m(\u001B[38;5;28mself\u001B[39m, x):\n\u001B[1;32m     24\u001B[0m     out \u001B[38;5;241m=\u001B[39m \u001B[38;5;28mdict\u001B[39m()\n\u001B[0;32m---> 25\u001B[0m     \u001B[38;5;28;43mself\u001B[39;49m\u001B[38;5;241;43m.\u001B[39;49m\u001B[43mproblem\u001B[49m\u001B[38;5;241;43m.\u001B[39;49m\u001B[43m_evaluate\u001B[49m\u001B[43m(\u001B[49m\u001B[43mx\u001B[49m\u001B[43m,\u001B[49m\u001B[43m \u001B[49m\u001B[43mout\u001B[49m\u001B[43m,\u001B[49m\u001B[43m \u001B[49m\u001B[38;5;241;43m*\u001B[39;49m\u001B[38;5;28;43mself\u001B[39;49m\u001B[38;5;241;43m.\u001B[39;49m\u001B[43margs\u001B[49m\u001B[43m,\u001B[49m\u001B[43m \u001B[49m\u001B[38;5;241;43m*\u001B[39;49m\u001B[38;5;241;43m*\u001B[39;49m\u001B[38;5;28;43mself\u001B[39;49m\u001B[38;5;241;43m.\u001B[39;49m\u001B[43mkwargs\u001B[49m\u001B[43m)\u001B[49m\n\u001B[1;32m     26\u001B[0m     \u001B[38;5;28;01mreturn\u001B[39;00m out\n",
      "File \u001B[0;32m/mnt/c/Data/Apps/hackjakarta/server/autocode/autocode/use_case.py:155\u001B[0m, in \u001B[0;36mOptimizationProblem._evaluate\u001B[0;34m(self, X, out, *args, **kwargs)\u001B[0m\n\u001B[1;32m    149\u001B[0m     run_response \u001B[38;5;241m=\u001B[39m \u001B[38;5;28mself\u001B[39m\u001B[38;5;241m.\u001B[39moptimization_gateway\u001B[38;5;241m.\u001B[39mevaluate_run(\n\u001B[1;32m    150\u001B[0m         client\u001B[38;5;241m=\u001B[39mclient,\n\u001B[1;32m    151\u001B[0m         request\u001B[38;5;241m=\u001B[39mrun_request\n\u001B[1;32m    152\u001B[0m     )\n\u001B[1;32m    153\u001B[0m     run_futures\u001B[38;5;241m.\u001B[39mappend(run_response)\n\u001B[0;32m--> 155\u001B[0m results: List[OptimizationEvaluateRunResponse] \u001B[38;5;241m=\u001B[39m \u001B[43masyncio\u001B[49m\u001B[38;5;241;43m.\u001B[39;49m\u001B[43mget_event_loop\u001B[49m\u001B[43m(\u001B[49m\u001B[43m)\u001B[49m\u001B[38;5;241;43m.\u001B[39;49m\u001B[43mrun_until_complete\u001B[49m\u001B[43m(\u001B[49m\n\u001B[1;32m    156\u001B[0m \u001B[43m    \u001B[49m\u001B[43masyncio\u001B[49m\u001B[38;5;241;43m.\u001B[39;49m\u001B[43mgather\u001B[49m\u001B[43m(\u001B[49m\u001B[38;5;241;43m*\u001B[39;49m\u001B[43mrun_futures\u001B[49m\u001B[43m)\u001B[49m\n\u001B[1;32m    157\u001B[0m \u001B[43m\u001B[49m\u001B[43m)\u001B[49m\n\u001B[1;32m    159\u001B[0m \u001B[38;5;28mself\u001B[39m\u001B[38;5;241m.\u001B[39mqueue\u001B[38;5;241m.\u001B[39mput(worker_id)\n\u001B[1;32m    161\u001B[0m \u001B[38;5;28;01mfor\u001B[39;00m result, client \u001B[38;5;129;01min\u001B[39;00m \u001B[38;5;28mzip\u001B[39m(results, \u001B[38;5;28mself\u001B[39m\u001B[38;5;241m.\u001B[39mclients\u001B[38;5;241m.\u001B[39mvalues()):\n",
      "File \u001B[0;32m~/miniconda3/envs/hackjakarta/lib/python3.10/site-packages/nest_asyncio.py:92\u001B[0m, in \u001B[0;36m_patch_loop.<locals>.run_until_complete\u001B[0;34m(self, future)\u001B[0m\n\u001B[1;32m     90\u001B[0m     f\u001B[38;5;241m.\u001B[39m_log_destroy_pending \u001B[38;5;241m=\u001B[39m \u001B[38;5;28;01mFalse\u001B[39;00m\n\u001B[1;32m     91\u001B[0m \u001B[38;5;28;01mwhile\u001B[39;00m \u001B[38;5;129;01mnot\u001B[39;00m f\u001B[38;5;241m.\u001B[39mdone():\n\u001B[0;32m---> 92\u001B[0m     \u001B[38;5;28;43mself\u001B[39;49m\u001B[38;5;241;43m.\u001B[39;49m\u001B[43m_run_once\u001B[49m\u001B[43m(\u001B[49m\u001B[43m)\u001B[49m\n\u001B[1;32m     93\u001B[0m     \u001B[38;5;28;01mif\u001B[39;00m \u001B[38;5;28mself\u001B[39m\u001B[38;5;241m.\u001B[39m_stopping:\n\u001B[1;32m     94\u001B[0m         \u001B[38;5;28;01mbreak\u001B[39;00m\n",
      "File \u001B[0;32m~/miniconda3/envs/hackjakarta/lib/python3.10/site-packages/nest_asyncio.py:133\u001B[0m, in \u001B[0;36m_patch_loop.<locals>._run_once\u001B[0;34m(self)\u001B[0m\n\u001B[1;32m    130\u001B[0m curr_task \u001B[38;5;241m=\u001B[39m curr_tasks\u001B[38;5;241m.\u001B[39mpop(\u001B[38;5;28mself\u001B[39m, \u001B[38;5;28;01mNone\u001B[39;00m)\n\u001B[1;32m    132\u001B[0m \u001B[38;5;28;01mtry\u001B[39;00m:\n\u001B[0;32m--> 133\u001B[0m     \u001B[43mhandle\u001B[49m\u001B[38;5;241;43m.\u001B[39;49m\u001B[43m_run\u001B[49m\u001B[43m(\u001B[49m\u001B[43m)\u001B[49m\n\u001B[1;32m    134\u001B[0m \u001B[38;5;28;01mfinally\u001B[39;00m:\n\u001B[1;32m    135\u001B[0m     \u001B[38;5;66;03m# restore the current task\u001B[39;00m\n\u001B[1;32m    136\u001B[0m     \u001B[38;5;28;01mif\u001B[39;00m curr_task \u001B[38;5;129;01mis\u001B[39;00m \u001B[38;5;129;01mnot\u001B[39;00m \u001B[38;5;28;01mNone\u001B[39;00m:\n",
      "File \u001B[0;32m~/miniconda3/envs/hackjakarta/lib/python3.10/asyncio/events.py:80\u001B[0m, in \u001B[0;36mHandle._run\u001B[0;34m(self)\u001B[0m\n\u001B[1;32m     78\u001B[0m \u001B[38;5;28;01mdef\u001B[39;00m \u001B[38;5;21m_run\u001B[39m(\u001B[38;5;28mself\u001B[39m):\n\u001B[1;32m     79\u001B[0m     \u001B[38;5;28;01mtry\u001B[39;00m:\n\u001B[0;32m---> 80\u001B[0m         \u001B[38;5;28;43mself\u001B[39;49m\u001B[38;5;241;43m.\u001B[39;49m\u001B[43m_context\u001B[49m\u001B[38;5;241;43m.\u001B[39;49m\u001B[43mrun\u001B[49m\u001B[43m(\u001B[49m\u001B[38;5;28;43mself\u001B[39;49m\u001B[38;5;241;43m.\u001B[39;49m\u001B[43m_callback\u001B[49m\u001B[43m,\u001B[49m\u001B[43m \u001B[49m\u001B[38;5;241;43m*\u001B[39;49m\u001B[38;5;28;43mself\u001B[39;49m\u001B[38;5;241;43m.\u001B[39;49m\u001B[43m_args\u001B[49m\u001B[43m)\u001B[49m\n\u001B[1;32m     81\u001B[0m     \u001B[38;5;28;01mexcept\u001B[39;00m (\u001B[38;5;167;01mSystemExit\u001B[39;00m, \u001B[38;5;167;01mKeyboardInterrupt\u001B[39;00m):\n\u001B[1;32m     82\u001B[0m         \u001B[38;5;28;01mraise\u001B[39;00m\n",
      "File \u001B[0;32m~/miniconda3/envs/hackjakarta/lib/python3.10/asyncio/tasks.py:232\u001B[0m, in \u001B[0;36mTask.__step\u001B[0;34m(***failed resolving arguments***)\u001B[0m\n\u001B[1;32m    228\u001B[0m \u001B[38;5;28;01mtry\u001B[39;00m:\n\u001B[1;32m    229\u001B[0m     \u001B[38;5;28;01mif\u001B[39;00m exc \u001B[38;5;129;01mis\u001B[39;00m \u001B[38;5;28;01mNone\u001B[39;00m:\n\u001B[1;32m    230\u001B[0m         \u001B[38;5;66;03m# We use the `send` method directly, because coroutines\u001B[39;00m\n\u001B[1;32m    231\u001B[0m         \u001B[38;5;66;03m# don't have `__iter__` and `__next__` methods.\u001B[39;00m\n\u001B[0;32m--> 232\u001B[0m         result \u001B[38;5;241m=\u001B[39m \u001B[43mcoro\u001B[49m\u001B[38;5;241;43m.\u001B[39;49m\u001B[43msend\u001B[49m\u001B[43m(\u001B[49m\u001B[38;5;28;43;01mNone\u001B[39;49;00m\u001B[43m)\u001B[49m\n\u001B[1;32m    233\u001B[0m     \u001B[38;5;28;01melse\u001B[39;00m:\n\u001B[1;32m    234\u001B[0m         result \u001B[38;5;241m=\u001B[39m coro\u001B[38;5;241m.\u001B[39mthrow(exc)\n",
      "File \u001B[0;32m/mnt/c/Data/Apps/hackjakarta/server/autocode/autocode/gateway.py:30\u001B[0m, in \u001B[0;36mEvaluationGateway.evaluate_run\u001B[0;34m(self, client, request)\u001B[0m\n\u001B[1;32m     27\u001B[0m \u001B[38;5;28;01masync\u001B[39;00m \u001B[38;5;28;01mdef\u001B[39;00m \u001B[38;5;21mevaluate_run\u001B[39m(\u001B[38;5;28mself\u001B[39m, client: OptimizationClient, request: OptimizationEvaluateRunRequest):\n\u001B[1;32m     28\u001B[0m     client: AsyncClient \u001B[38;5;241m=\u001B[39m AsyncClient(\n\u001B[1;32m     29\u001B[0m         base_url\u001B[38;5;241m=\u001B[39m\u001B[38;5;124mf\u001B[39m\u001B[38;5;124m\"\u001B[39m\u001B[38;5;124mhttp://\u001B[39m\u001B[38;5;132;01m{\u001B[39;00mclient\u001B[38;5;241m.\u001B[39mhost\u001B[38;5;132;01m}\u001B[39;00m\u001B[38;5;124m:\u001B[39m\u001B[38;5;132;01m{\u001B[39;00mclient\u001B[38;5;241m.\u001B[39mport\u001B[38;5;132;01m}\u001B[39;00m\u001B[38;5;124m/apis\u001B[39m\u001B[38;5;124m\"\u001B[39m,\n\u001B[0;32m---> 30\u001B[0m         transport\u001B[38;5;241m=\u001B[39m\u001B[43mAsyncHTTPTransport\u001B[49m\u001B[43m(\u001B[49m\u001B[43mretries\u001B[49m\u001B[38;5;241;43m=\u001B[39;49m\u001B[38;5;241;43m30\u001B[39;49m\u001B[43m)\u001B[49m\n\u001B[1;32m     31\u001B[0m     )\n\u001B[1;32m     32\u001B[0m     response \u001B[38;5;241m=\u001B[39m \u001B[38;5;28;01mawait\u001B[39;00m client\u001B[38;5;241m.\u001B[39mpost(\n\u001B[1;32m     33\u001B[0m         url\u001B[38;5;241m=\u001B[39m\u001B[38;5;124m\"\u001B[39m\u001B[38;5;124m/optimizations/evaluates/runs\u001B[39m\u001B[38;5;124m\"\u001B[39m,\n\u001B[1;32m     34\u001B[0m         json\u001B[38;5;241m=\u001B[39mrequest\u001B[38;5;241m.\u001B[39mmodel_dump(mode\u001B[38;5;241m=\u001B[39m\u001B[38;5;124m\"\u001B[39m\u001B[38;5;124mjson\u001B[39m\u001B[38;5;124m\"\u001B[39m),\n\u001B[1;32m     35\u001B[0m         timeout\u001B[38;5;241m=\u001B[39m\u001B[38;5;28;01mNone\u001B[39;00m\n\u001B[1;32m     36\u001B[0m     )\n\u001B[1;32m     38\u001B[0m     \u001B[38;5;28;01mif\u001B[39;00m response\u001B[38;5;241m.\u001B[39mstatus_code \u001B[38;5;241m!=\u001B[39m HTTPStatus\u001B[38;5;241m.\u001B[39mOK:\n",
      "File \u001B[0;32m~/miniconda3/envs/hackjakarta/lib/python3.10/site-packages/httpx/_transports/default.py:277\u001B[0m, in \u001B[0;36mAsyncHTTPTransport.__init__\u001B[0;34m(self, verify, cert, http1, http2, limits, trust_env, proxy, uds, local_address, retries, socket_options)\u001B[0m\n\u001B[1;32m    263\u001B[0m \u001B[38;5;28;01mdef\u001B[39;00m \u001B[38;5;21m__init__\u001B[39m(\n\u001B[1;32m    264\u001B[0m     \u001B[38;5;28mself\u001B[39m,\n\u001B[1;32m    265\u001B[0m     verify: VerifyTypes \u001B[38;5;241m=\u001B[39m \u001B[38;5;28;01mTrue\u001B[39;00m,\n\u001B[0;32m   (...)\u001B[0m\n\u001B[1;32m    275\u001B[0m     socket_options: typing\u001B[38;5;241m.\u001B[39mIterable[SOCKET_OPTION] \u001B[38;5;241m|\u001B[39m \u001B[38;5;28;01mNone\u001B[39;00m \u001B[38;5;241m=\u001B[39m \u001B[38;5;28;01mNone\u001B[39;00m,\n\u001B[1;32m    276\u001B[0m ) \u001B[38;5;241m-\u001B[39m\u001B[38;5;241m>\u001B[39m \u001B[38;5;28;01mNone\u001B[39;00m:\n\u001B[0;32m--> 277\u001B[0m     ssl_context \u001B[38;5;241m=\u001B[39m \u001B[43mcreate_ssl_context\u001B[49m\u001B[43m(\u001B[49m\u001B[43mverify\u001B[49m\u001B[38;5;241;43m=\u001B[39;49m\u001B[43mverify\u001B[49m\u001B[43m,\u001B[49m\u001B[43m \u001B[49m\u001B[43mcert\u001B[49m\u001B[38;5;241;43m=\u001B[39;49m\u001B[43mcert\u001B[49m\u001B[43m,\u001B[49m\u001B[43m \u001B[49m\u001B[43mtrust_env\u001B[49m\u001B[38;5;241;43m=\u001B[39;49m\u001B[43mtrust_env\u001B[49m\u001B[43m)\u001B[49m\n\u001B[1;32m    278\u001B[0m     proxy \u001B[38;5;241m=\u001B[39m Proxy(url\u001B[38;5;241m=\u001B[39mproxy) \u001B[38;5;28;01mif\u001B[39;00m \u001B[38;5;28misinstance\u001B[39m(proxy, (\u001B[38;5;28mstr\u001B[39m, URL)) \u001B[38;5;28;01melse\u001B[39;00m proxy\n\u001B[1;32m    280\u001B[0m     \u001B[38;5;28;01mif\u001B[39;00m proxy \u001B[38;5;129;01mis\u001B[39;00m \u001B[38;5;28;01mNone\u001B[39;00m:\n",
      "File \u001B[0;32m~/miniconda3/envs/hackjakarta/lib/python3.10/site-packages/httpx/_config.py:53\u001B[0m, in \u001B[0;36mcreate_ssl_context\u001B[0;34m(cert, verify, trust_env, http2)\u001B[0m\n\u001B[1;32m     47\u001B[0m \u001B[38;5;28;01mdef\u001B[39;00m \u001B[38;5;21mcreate_ssl_context\u001B[39m(\n\u001B[1;32m     48\u001B[0m     cert: CertTypes \u001B[38;5;241m|\u001B[39m \u001B[38;5;28;01mNone\u001B[39;00m \u001B[38;5;241m=\u001B[39m \u001B[38;5;28;01mNone\u001B[39;00m,\n\u001B[1;32m     49\u001B[0m     verify: VerifyTypes \u001B[38;5;241m=\u001B[39m \u001B[38;5;28;01mTrue\u001B[39;00m,\n\u001B[1;32m     50\u001B[0m     trust_env: \u001B[38;5;28mbool\u001B[39m \u001B[38;5;241m=\u001B[39m \u001B[38;5;28;01mTrue\u001B[39;00m,\n\u001B[1;32m     51\u001B[0m     http2: \u001B[38;5;28mbool\u001B[39m \u001B[38;5;241m=\u001B[39m \u001B[38;5;28;01mFalse\u001B[39;00m,\n\u001B[1;32m     52\u001B[0m ) \u001B[38;5;241m-\u001B[39m\u001B[38;5;241m>\u001B[39m ssl\u001B[38;5;241m.\u001B[39mSSLContext:\n\u001B[0;32m---> 53\u001B[0m     \u001B[38;5;28;01mreturn\u001B[39;00m \u001B[43mSSLConfig\u001B[49m\u001B[43m(\u001B[49m\n\u001B[1;32m     54\u001B[0m \u001B[43m        \u001B[49m\u001B[43mcert\u001B[49m\u001B[38;5;241;43m=\u001B[39;49m\u001B[43mcert\u001B[49m\u001B[43m,\u001B[49m\u001B[43m \u001B[49m\u001B[43mverify\u001B[49m\u001B[38;5;241;43m=\u001B[39;49m\u001B[43mverify\u001B[49m\u001B[43m,\u001B[49m\u001B[43m \u001B[49m\u001B[43mtrust_env\u001B[49m\u001B[38;5;241;43m=\u001B[39;49m\u001B[43mtrust_env\u001B[49m\u001B[43m,\u001B[49m\u001B[43m \u001B[49m\u001B[43mhttp2\u001B[49m\u001B[38;5;241;43m=\u001B[39;49m\u001B[43mhttp2\u001B[49m\n\u001B[1;32m     55\u001B[0m \u001B[43m    \u001B[49m\u001B[43m)\u001B[49m\u001B[38;5;241m.\u001B[39mssl_context\n",
      "File \u001B[0;32m~/miniconda3/envs/hackjakarta/lib/python3.10/site-packages/httpx/_config.py:77\u001B[0m, in \u001B[0;36mSSLConfig.__init__\u001B[0;34m(self, cert, verify, trust_env, http2)\u001B[0m\n\u001B[1;32m     75\u001B[0m \u001B[38;5;28mself\u001B[39m\u001B[38;5;241m.\u001B[39mtrust_env \u001B[38;5;241m=\u001B[39m trust_env\n\u001B[1;32m     76\u001B[0m \u001B[38;5;28mself\u001B[39m\u001B[38;5;241m.\u001B[39mhttp2 \u001B[38;5;241m=\u001B[39m http2\n\u001B[0;32m---> 77\u001B[0m \u001B[38;5;28mself\u001B[39m\u001B[38;5;241m.\u001B[39mssl_context \u001B[38;5;241m=\u001B[39m \u001B[38;5;28;43mself\u001B[39;49m\u001B[38;5;241;43m.\u001B[39;49m\u001B[43mload_ssl_context\u001B[49m\u001B[43m(\u001B[49m\u001B[43m)\u001B[49m\n",
      "File \u001B[0;32m~/miniconda3/envs/hackjakarta/lib/python3.10/site-packages/httpx/_config.py:89\u001B[0m, in \u001B[0;36mSSLConfig.load_ssl_context\u001B[0;34m(self)\u001B[0m\n\u001B[1;32m     80\u001B[0m logger\u001B[38;5;241m.\u001B[39mdebug(\n\u001B[1;32m     81\u001B[0m     \u001B[38;5;124m\"\u001B[39m\u001B[38;5;124mload_ssl_context verify=\u001B[39m\u001B[38;5;132;01m%r\u001B[39;00m\u001B[38;5;124m cert=\u001B[39m\u001B[38;5;132;01m%r\u001B[39;00m\u001B[38;5;124m trust_env=\u001B[39m\u001B[38;5;132;01m%r\u001B[39;00m\u001B[38;5;124m http2=\u001B[39m\u001B[38;5;132;01m%r\u001B[39;00m\u001B[38;5;124m\"\u001B[39m,\n\u001B[1;32m     82\u001B[0m     \u001B[38;5;28mself\u001B[39m\u001B[38;5;241m.\u001B[39mverify,\n\u001B[0;32m   (...)\u001B[0m\n\u001B[1;32m     85\u001B[0m     \u001B[38;5;28mself\u001B[39m\u001B[38;5;241m.\u001B[39mhttp2,\n\u001B[1;32m     86\u001B[0m )\n\u001B[1;32m     88\u001B[0m \u001B[38;5;28;01mif\u001B[39;00m \u001B[38;5;28mself\u001B[39m\u001B[38;5;241m.\u001B[39mverify:\n\u001B[0;32m---> 89\u001B[0m     \u001B[38;5;28;01mreturn\u001B[39;00m \u001B[38;5;28;43mself\u001B[39;49m\u001B[38;5;241;43m.\u001B[39;49m\u001B[43mload_ssl_context_verify\u001B[49m\u001B[43m(\u001B[49m\u001B[43m)\u001B[49m\n\u001B[1;32m     90\u001B[0m \u001B[38;5;28;01mreturn\u001B[39;00m \u001B[38;5;28mself\u001B[39m\u001B[38;5;241m.\u001B[39mload_ssl_context_no_verify()\n",
      "File \u001B[0;32m~/miniconda3/envs/hackjakarta/lib/python3.10/site-packages/httpx/_config.py:147\u001B[0m, in \u001B[0;36mSSLConfig.load_ssl_context_verify\u001B[0;34m(self)\u001B[0m\n\u001B[1;32m    145\u001B[0m     cafile \u001B[38;5;241m=\u001B[39m \u001B[38;5;28mstr\u001B[39m(ca_bundle_path)\n\u001B[1;32m    146\u001B[0m     logger\u001B[38;5;241m.\u001B[39mdebug(\u001B[38;5;124m\"\u001B[39m\u001B[38;5;124mload_verify_locations cafile=\u001B[39m\u001B[38;5;132;01m%r\u001B[39;00m\u001B[38;5;124m\"\u001B[39m, cafile)\n\u001B[0;32m--> 147\u001B[0m     \u001B[43mcontext\u001B[49m\u001B[38;5;241;43m.\u001B[39;49m\u001B[43mload_verify_locations\u001B[49m\u001B[43m(\u001B[49m\u001B[43mcafile\u001B[49m\u001B[38;5;241;43m=\u001B[39;49m\u001B[43mcafile\u001B[49m\u001B[43m)\u001B[49m\n\u001B[1;32m    148\u001B[0m \u001B[38;5;28;01melif\u001B[39;00m ca_bundle_path\u001B[38;5;241m.\u001B[39mis_dir():\n\u001B[1;32m    149\u001B[0m     capath \u001B[38;5;241m=\u001B[39m \u001B[38;5;28mstr\u001B[39m(ca_bundle_path)\n",
      "\u001B[0;31mKeyboardInterrupt\u001B[0m: "
     ]
    }
   ],
   "execution_count": 5
  },
  {
   "metadata": {},
   "cell_type": "code",
   "outputs": [],
   "execution_count": null,
   "source": "",
   "id": "714570dc19871817"
  }
 ],
 "metadata": {
  "kernelspec": {
   "display_name": "Python 3",
   "language": "python",
   "name": "python3"
  },
  "language_info": {
   "codemirror_mode": {
    "name": "ipython",
    "version": 2
   },
   "file_extension": ".py",
   "mimetype": "text/x-python",
   "name": "python",
   "nbconvert_exporter": "python",
   "pygments_lexer": "ipython2",
   "version": "2.7.6"
  }
 },
 "nbformat": 4,
 "nbformat_minor": 5
}
