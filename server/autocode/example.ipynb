{
 "cells": [
  {
   "cell_type": "code",
   "id": "initial_id",
   "metadata": {
    "collapsed": true,
    "ExecuteTime": {
     "end_time": "2024-07-27T16:52:54.948199Z",
     "start_time": "2024-07-27T16:52:51.636161Z"
    }
   },
   "source": [
    "import json\n",
    "\n",
    "import nest_asyncio\n",
    "\n",
    "import autocode\n",
    "\n",
    "nest_asyncio.apply()"
   ],
   "outputs": [],
   "execution_count": 1
  },
  {
   "metadata": {
    "ExecuteTime": {
     "end_time": "2024-07-27T16:53:00.728727Z",
     "start_time": "2024-07-27T16:52:54.951698Z"
    }
   },
   "cell_type": "code",
   "source": [
    "optimization = autocode.Optimization(\n",
    "    num_cpus=4,\n",
    "    server_host=\"0.0.0.0\",\n",
    "    server_port=10000,\n",
    "    dashboard_port=10001,\n",
    ")"
   ],
   "id": "fe6274905d54ad44",
   "outputs": [
    {
     "name": "stderr",
     "output_type": "stream",
     "text": [
      "2024-07-27 23:52:58,979\tINFO worker.py:1781 -- Started a local Ray instance.\n"
     ]
    },
    {
     "name": "stdout",
     "output_type": "stream",
     "text": [
      "Available resources:  {'CPU': 4.0, 'node:__internal_head__': 1.0, 'memory': 6795406542.0, 'node:172.17.208.191': 1.0, 'object_store_memory': 3397703270.0}\n",
      "Server is healthy.\n"
     ]
    }
   ],
   "execution_count": 2
  },
  {
   "metadata": {
    "ExecuteTime": {
     "end_time": "2024-07-27T16:53:00.819128Z",
     "start_time": "2024-07-27T16:53:00.732714Z"
    }
   },
   "cell_type": "code",
   "source": "optimization.reset()",
   "id": "303433e5ea06bdd4",
   "outputs": [],
   "execution_count": 3
  },
  {
   "metadata": {
    "ExecuteTime": {
     "end_time": "2024-07-27T16:53:00.829478Z",
     "start_time": "2024-07-27T16:53:00.821523Z"
    }
   },
   "cell_type": "code",
   "source": [
    "from autocode import OptimizationObjective\n",
    "from typing import Dict, Any, List\n",
    "from autocode import OptimizationEvaluateRunResponse\n",
    "\n",
    "objectives: List[OptimizationObjective] = [\n",
    "    OptimizationObjective(\n",
    "        type=\"minimize\",\n",
    "    ),\n",
    "    OptimizationObjective(  \n",
    "        type=\"maximize\",\n",
    "    )\n",
    "]\n",
    "\n",
    "\n",
    "def evaluator(input: List[OptimizationEvaluateRunResponse]) -> Dict[str, Any]:\n",
    "    # print(input[0].get_client().name)\n",
    "    output: Dict[str, Any] = {\n",
    "        \"F\": [input[0].objectives[0], input[0].objectives[1]],\n",
    "    }\n",
    "\n",
    "    return output\n"
   ],
   "id": "5daf173cc5c82482",
   "outputs": [],
   "execution_count": 4
  },
  {
   "metadata": {
    "jupyter": {
     "is_executing": true
    },
    "ExecuteTime": {
     "start_time": "2024-07-27T16:53:11.508990Z"
    }
   },
   "cell_type": "code",
   "source": [
    "result = optimization.run(\n",
    "    objectives=objectives,\n",
    "    num_inequality_constraints=0,\n",
    "    num_equality_constraints=0,\n",
    "    evaluator=evaluator\n",
    ")"
   ],
   "id": "38bf58746d0b5933",
   "outputs": [],
   "execution_count": null
  },
  {
   "metadata": {
    "ExecuteTime": {
     "end_time": "2024-07-27T16:29:19.127413Z",
     "start_time": "2024-07-27T16:29:19.126998Z"
    }
   },
   "cell_type": "code",
   "source": "",
   "id": "54598d10b6d88cde",
   "outputs": [],
   "execution_count": null
  }
 ],
 "metadata": {
  "kernelspec": {
   "display_name": "Python 3",
   "language": "python",
   "name": "python3"
  },
  "language_info": {
   "codemirror_mode": {
    "name": "ipython",
    "version": 2
   },
   "file_extension": ".py",
   "mimetype": "text/x-python",
   "name": "python",
   "nbconvert_exporter": "python",
   "pygments_lexer": "ipython2",
   "version": "2.7.6"
  }
 },
 "nbformat": 4,
 "nbformat_minor": 5
}
