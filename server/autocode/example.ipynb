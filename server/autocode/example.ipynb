{
 "cells": [
  {
   "cell_type": "code",
   "id": "initial_id",
   "metadata": {
    "collapsed": true,
    "jupyter": {
     "is_executing": true
    },
    "ExecuteTime": {
     "start_time": "2024-07-28T00:40:29.946515Z"
    }
   },
   "source": [
    "import json\n",
    "\n",
    "import nest_asyncio\n",
    "\n",
    "import autocode\n",
    "\n",
    "nest_asyncio.apply()\n",
    "\n",
    "import os\n",
    "\n",
    "os.environ[\"LANGCHAIN_TRACING_V2\"] = \"true\"\n",
    "os.environ[\"LANGCHAIN_ENDPOINT\"] = \"https://api.smith.langchain.com\"\n",
    "os.environ[\"LANGCHAIN_API_KEY\"] = \"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\"\n",
    "os.environ[\"LANGCHAIN_PROJECT\"] = \"hackjakarta\""
   ],
   "outputs": [],
   "execution_count": null
  },
  {
   "metadata": {
    "jupyter": {
     "is_executing": true
    }
   },
   "cell_type": "code",
   "source": [
    "optimization = autocode.Optimization(\n",
    "    num_cpus=4,\n",
    "    server_host=\"0.0.0.0\",\n",
    "    server_port=10000,\n",
    "    dashboard_port=10001,\n",
    ")"
   ],
   "id": "fe6274905d54ad44",
   "outputs": [],
   "execution_count": null
  },
  {
   "metadata": {
    "jupyter": {
     "is_executing": true
    }
   },
   "cell_type": "code",
   "source": "optimization.reset()",
   "id": "303433e5ea06bdd4",
   "outputs": [],
   "execution_count": null
  },
  {
   "metadata": {
    "jupyter": {
     "is_executing": true
    }
   },
   "cell_type": "code",
   "source": [
    "from autocode import OptimizationObjective\n",
    "from typing import Dict, Any, List\n",
    "from autocode import OptimizationEvaluateRunResponse\n",
    "\n",
    "objectives: List[OptimizationObjective] = [\n",
    "    OptimizationObjective(\n",
    "        type=\"minimize\",\n",
    "    ),\n",
    "    OptimizationObjective(  \n",
    "        type=\"maximize\",\n",
    "    )\n",
    "]\n",
    "\n",
    "\n",
    "def evaluator(input: List[OptimizationEvaluateRunResponse]) -> Dict[str, Any]:\n",
    "    # print(input[0].get_client().name)\n",
    "    output: Dict[str, Any] = {\n",
    "        \"F\": [input[0].objectives[0], input[0].objectives[1]],\n",
    "    }\n",
    "\n",
    "    return output\n"
   ],
   "id": "5daf173cc5c82482",
   "outputs": [],
   "execution_count": null
  },
  {
   "metadata": {
    "ExecuteTime": {
     "start_time": "2024-07-28T00:33:44.636614Z"
    }
   },
   "cell_type": "code",
   "source": [
    "result = optimization.run(\n",
    "    objectives=objectives,\n",
    "    num_inequality_constraints=0,\n",
    "    num_equality_constraints=0,\n",
    "    evaluator=evaluator\n",
    ")"
   ],
   "id": "38bf58746d0b5933",
   "outputs": [
    {
     "name": "stdout",
     "output_type": "stream",
     "text": [
      "=================================================\n",
      "n_gen  |  n_eval  |     f_avg     |     f_min    \n",
      "=================================================\n",
      "     1 |       50 |  7.617400E+02 |  4.400000E+02\n",
      "     2 |      100 |  5.673000E+02 |  4.400000E+02\n",
      "     3 |      150 |  5.320000E+02 |  4.400000E+02\n",
      "     4 |      200 |  5.176200E+02 |  4.400000E+02\n",
      "     5 |      250 |  4.954400E+02 |  3.140000E+02\n"
     ]
    }
   ],
   "execution_count": null
  },
  {
   "metadata": {
    "ExecuteTime": {
     "end_time": "2024-07-27T23:59:18.247415Z",
     "start_time": "2024-07-27T23:59:18.173855Z"
    }
   },
   "cell_type": "code",
   "source": [
    "from langchain_core.prompts import jinja2_formatter\n",
    "\n",
    "jinja2_formatter(r\"\"\"\n",
    "func {{a0}}(ctx *autocode.OptimizationApplicationContext, args ...any) (result any) {\n",
    "\tn := int64(1)\n",
    "\tcount := int64(0)\n",
    "\tfor i := int64(1); i < n; i++ {\n",
    "\t\tcount += 1\n",
    "\t}\n",
    "\treturn count\n",
    "}\n",
    "\"\"\", a0=1)"
   ],
   "id": "54598d10b6d88cde",
   "outputs": [
    {
     "data": {
      "text/plain": [
       "'\\nfunc 1(ctx *autocode.OptimizationApplicationContext, args ...any) (result any) {\\n\\tn := int64(1)\\n\\tcount := int64(0)\\n\\tfor i := int64(1); i < n; i++ {\\n\\t\\tcount += 1\\n\\t}\\n\\treturn count\\n}'"
      ]
     },
     "execution_count": 5,
     "metadata": {},
     "output_type": "execute_result"
    }
   ],
   "execution_count": 5
  },
  {
   "metadata": {
    "ExecuteTime": {
     "end_time": "2024-07-28T00:01:38.706141Z",
     "start_time": "2024-07-28T00:01:38.683004Z"
    }
   },
   "cell_type": "code",
   "source": "",
   "id": "3d720eff5df355da",
   "outputs": [
    {
     "ename": "NameError",
     "evalue": "name 'open_ai_llm' is not defined",
     "output_type": "error",
     "traceback": [
      "\u001B[0;31m---------------------------------------------------------------------------\u001B[0m",
      "\u001B[0;31mNameError\u001B[0m                                 Traceback (most recent call last)",
      "Cell \u001B[0;32mIn[7], line 1\u001B[0m\n\u001B[0;32m----> 1\u001B[0m \u001B[43mopen_ai_llm\u001B[49m\n",
      "\u001B[0;31mNameError\u001B[0m: name 'open_ai_llm' is not defined"
     ]
    }
   ],
   "execution_count": 7
  },
  {
   "metadata": {},
   "cell_type": "code",
   "outputs": [],
   "execution_count": null,
   "source": "",
   "id": "714570dc19871817"
  }
 ],
 "metadata": {
  "kernelspec": {
   "display_name": "Python 3",
   "language": "python",
   "name": "python3"
  },
  "language_info": {
   "codemirror_mode": {
    "name": "ipython",
    "version": 2
   },
   "file_extension": ".py",
   "mimetype": "text/x-python",
   "name": "python",
   "nbconvert_exporter": "python",
   "pygments_lexer": "ipython2",
   "version": "2.7.6"
  }
 },
 "nbformat": 4,
 "nbformat_minor": 5
}
